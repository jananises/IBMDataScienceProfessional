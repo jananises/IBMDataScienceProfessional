{
 "cells": [
  {
   "cell_type": "markdown",
   "metadata": {
    "tags": []
   },
   "source": [
    "<center>\n",
    "    <img src=\"https://cf-courses-data.s3.us.cloud-object-storage.appdomain.cloud/IBMDeveloperSkillsNetwork-DS0105EN-SkillsNetwork/labs/Module2/images/SN_web_lightmode.png\" width=\"300\" alt=\"cognitiveclass.ai logo\">\n",
    "</center>\n"
   ]
  },
  {
   "cell_type": "markdown",
   "metadata": {},
   "source": [
    "# Data Science Tools and Ecosystem"
   ]
  },
  {
   "cell_type": "markdown",
   "metadata": {},
   "source": [
    "In this notebook, Data Science Tools and Ecosystem are summarized."
   ]
  },
  {
   "cell_type": "markdown",
   "metadata": {},
   "source": [
    "## Some of the popular languages that Data Scientists use are:\n",
    "1.   Python\n",
    "2.   R\n",
    "3.   SQL\n",
    "4.   Scala\n",
    "5.   Java \n",
    "6.   C++\n",
    "7.   Julia\n",
    "\n",
    "## Other languages used are\n",
    "8.   Javascipt\n",
    "9.   PHP\n",
    "10.   Go\n",
    "11.   Ruby\n",
    "12.   Visual Basic"
   ]
  },
  {
   "cell_type": "markdown",
   "metadata": {},
   "source": [
    "## Some of the commonly used libraries used by Data Scientists include:\n",
    "### Python's Library\n",
    "1.   Pandas\n",
    "2.   Numpy\n",
    "3.   SciPy\n",
    "4.   Matplotlib\n",
    "5.   Seaborn\n",
    "6.   NLTK\n",
    "### Python ML and Deep-learning Libraries\n",
    "7.   TensorFlow\n",
    "8.   Keras\n",
    "9.   PyTorch\n",
    "10.   Scikit-learn\n",
    "### R libraries\n",
    "11.   ggplot2\n",
    "12.   dplyr\n",
    "13.   stringr\n",
    "14.   caret\n",
    "### Scala Library\n",
    "15.   Vegas\n",
    "16.   BigDL"
   ]
  },
  {
   "cell_type": "markdown",
   "metadata": {
    "tags": []
   },
   "source": [
    "## Table of Data Science tools\n",
    "|  Data Science Tools |\n",
    "|:---------:|\n",
    "|  Anaconda |\n",
    "|  Jupyter Notebook     |\n",
    "|  Jupyter Lab     |\n",
    "|  Spyder     |\n",
    "|  RStudio     |\n"
   ]
  },
  {
   "cell_type": "markdown",
   "metadata": {},
   "source": [
    "### Below are a few examples of evaluating arithmetic expressions in Python"
   ]
  },
  {
   "cell_type": "code",
   "execution_count": 2,
   "metadata": {
    "tags": []
   },
   "outputs": [
    {
     "data": {
      "text/plain": [
       "17"
      ]
     },
     "execution_count": 2,
     "metadata": {},
     "output_type": "execute_result"
    }
   ],
   "source": [
    "# This a simple arithmetic expression to mutiply then add integers\n",
    "\n",
    "(3*4)+5\n"
   ]
  },
  {
   "cell_type": "code",
   "execution_count": 2,
   "metadata": {},
   "outputs": [
    {
     "name": "stdout",
     "output_type": "stream",
     "text": [
      "3 hours\n"
     ]
    }
   ],
   "source": [
    "# This will convert 200 minutes to hours by diving by 60\n",
    "minute = 200\n",
    "hours = minute/60\n",
    "print(str(round(hours)) + \" hours\") "
   ]
  },
  {
   "cell_type": "markdown",
   "metadata": {},
   "source": [
    "# Objectives:\n",
    "* Overview of Data Science Tools \n",
    "* List of Popular Languages\n",
    "* Libraries, APIs, Datasets, and Models \n",
    "* Jupyter Project \n",
    "* RStudio and Github\n",
    "* IBM Tools for Data Science "
   ]
  },
  {
   "cell_type": "markdown",
   "metadata": {},
   "source": [
    "## Author\n",
    "Janani Seshadri"
   ]
  },
  {
   "cell_type": "code",
   "execution_count": null,
   "metadata": {},
   "outputs": [],
   "source": []
  }
 ],
 "metadata": {
  "kernelspec": {
   "display_name": "Python",
   "language": "python",
   "name": "conda-env-python-py"
  },
  "language_info": {
   "codemirror_mode": {
    "name": "ipython",
    "version": 3
   },
   "file_extension": ".py",
   "mimetype": "text/x-python",
   "name": "python",
   "nbconvert_exporter": "python",
   "pygments_lexer": "ipython3",
   "version": "3.7.12"
  }
 },
 "nbformat": 4,
 "nbformat_minor": 4
}
